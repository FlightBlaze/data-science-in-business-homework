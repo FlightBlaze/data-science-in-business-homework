{
 "cells": [
  {
   "cell_type": "markdown",
   "id": "dde04b98-e5f0-427a-99e0-778ab142998e",
   "metadata": {},
   "source": [
    "## Курсовая работа"
   ]
  },
  {
   "cell_type": "markdown",
   "id": "cd7aeccf-deca-4b3a-adaa-92f935a13ed4",
   "metadata": {},
   "source": [
    "Бинарная классификация комментариев на токсичность"
   ]
  },
  {
   "cell_type": "markdown",
   "id": "6e433fe3-9233-4ec2-87be-57943066af18",
   "metadata": {},
   "source": [
    "### Приступая к работе"
   ]
  },
  {
   "cell_type": "code",
   "execution_count": 4,
   "id": "55ab5b3e-8d46-43bf-b2c6-0b5f333baaf8",
   "metadata": {},
   "outputs": [],
   "source": [
    "import numpy as np\n",
    "import pandas as pd"
   ]
  },
  {
   "cell_type": "code",
   "execution_count": 5,
   "id": "2e488ba6-fe0a-40f1-ab00-8ebc675f2245",
   "metadata": {},
   "outputs": [
    {
     "data": {
      "text/html": [
       "<div>\n",
       "<style scoped>\n",
       "    .dataframe tbody tr th:only-of-type {\n",
       "        vertical-align: middle;\n",
       "    }\n",
       "\n",
       "    .dataframe tbody tr th {\n",
       "        vertical-align: top;\n",
       "    }\n",
       "\n",
       "    .dataframe thead th {\n",
       "        text-align: right;\n",
       "    }\n",
       "</style>\n",
       "<table border=\"1\" class=\"dataframe\">\n",
       "  <thead>\n",
       "    <tr style=\"text-align: right;\">\n",
       "      <th></th>\n",
       "      <th>id</th>\n",
       "      <th>comment_text</th>\n",
       "      <th>toxic</th>\n",
       "      <th>severe_toxic</th>\n",
       "      <th>obscene</th>\n",
       "      <th>threat</th>\n",
       "      <th>insult</th>\n",
       "      <th>identity_hate</th>\n",
       "    </tr>\n",
       "  </thead>\n",
       "  <tbody>\n",
       "    <tr>\n",
       "      <th>0</th>\n",
       "      <td>0000997932d777bf</td>\n",
       "      <td>Explanation\\nWhy the edits made under my usern...</td>\n",
       "      <td>0</td>\n",
       "      <td>0</td>\n",
       "      <td>0</td>\n",
       "      <td>0</td>\n",
       "      <td>0</td>\n",
       "      <td>0</td>\n",
       "    </tr>\n",
       "    <tr>\n",
       "      <th>1</th>\n",
       "      <td>000103f0d9cfb60f</td>\n",
       "      <td>D'aww! He matches this background colour I'm s...</td>\n",
       "      <td>0</td>\n",
       "      <td>0</td>\n",
       "      <td>0</td>\n",
       "      <td>0</td>\n",
       "      <td>0</td>\n",
       "      <td>0</td>\n",
       "    </tr>\n",
       "    <tr>\n",
       "      <th>2</th>\n",
       "      <td>000113f07ec002fd</td>\n",
       "      <td>Hey man, I'm really not trying to edit war. It...</td>\n",
       "      <td>0</td>\n",
       "      <td>0</td>\n",
       "      <td>0</td>\n",
       "      <td>0</td>\n",
       "      <td>0</td>\n",
       "      <td>0</td>\n",
       "    </tr>\n",
       "  </tbody>\n",
       "</table>\n",
       "</div>"
      ],
      "text/plain": [
       "                 id                                       comment_text  toxic  \\\n",
       "0  0000997932d777bf  Explanation\\nWhy the edits made under my usern...      0   \n",
       "1  000103f0d9cfb60f  D'aww! He matches this background colour I'm s...      0   \n",
       "2  000113f07ec002fd  Hey man, I'm really not trying to edit war. It...      0   \n",
       "\n",
       "   severe_toxic  obscene  threat  insult  identity_hate  \n",
       "0             0        0       0       0              0  \n",
       "1             0        0       0       0              0  \n",
       "2             0        0       0       0              0  "
      ]
     },
     "execution_count": 5,
     "metadata": {},
     "output_type": "execute_result"
    }
   ],
   "source": [
    "train_df = pd.read_csv('data/train.csv')\n",
    "test_df = pd.read_csv('data/test.csv')\n",
    "test_labels = pd.read_csv('data/test_labels.csv')\n",
    "train_df.head(3)"
   ]
  },
  {
   "cell_type": "code",
   "execution_count": 6,
   "id": "7bb8758a-b050-47ce-abd3-05207606f2eb",
   "metadata": {},
   "outputs": [
    {
     "data": {
      "text/plain": [
       "array([0, 1])"
      ]
     },
     "execution_count": 6,
     "metadata": {},
     "output_type": "execute_result"
    }
   ],
   "source": [
    "train_df['severe_toxic'].unique()"
   ]
  },
  {
   "cell_type": "markdown",
   "id": "adda8799-3fa0-422c-a828-e73616a31fc7",
   "metadata": {},
   "source": [
    "Один признак текстовый, остальные бинарные. Еще есть __id__, но он мне не нужен."
   ]
  },
  {
   "cell_type": "code",
   "execution_count": 7,
   "id": "9cece342-3b6f-44b1-b831-c6f514d5a00d",
   "metadata": {},
   "outputs": [
    {
     "data": {
      "text/html": [
       "<div>\n",
       "<style scoped>\n",
       "    .dataframe tbody tr th:only-of-type {\n",
       "        vertical-align: middle;\n",
       "    }\n",
       "\n",
       "    .dataframe tbody tr th {\n",
       "        vertical-align: top;\n",
       "    }\n",
       "\n",
       "    .dataframe thead th {\n",
       "        text-align: right;\n",
       "    }\n",
       "</style>\n",
       "<table border=\"1\" class=\"dataframe\">\n",
       "  <thead>\n",
       "    <tr style=\"text-align: right;\">\n",
       "      <th></th>\n",
       "      <th>comment_text</th>\n",
       "      <th>toxic</th>\n",
       "      <th>severe_toxic</th>\n",
       "      <th>obscene</th>\n",
       "      <th>threat</th>\n",
       "      <th>insult</th>\n",
       "      <th>identity_hate</th>\n",
       "    </tr>\n",
       "  </thead>\n",
       "  <tbody>\n",
       "    <tr>\n",
       "      <th>0</th>\n",
       "      <td>Explanation\\nWhy the edits made under my usern...</td>\n",
       "      <td>0</td>\n",
       "      <td>0</td>\n",
       "      <td>0</td>\n",
       "      <td>0</td>\n",
       "      <td>0</td>\n",
       "      <td>0</td>\n",
       "    </tr>\n",
       "    <tr>\n",
       "      <th>1</th>\n",
       "      <td>D'aww! He matches this background colour I'm s...</td>\n",
       "      <td>0</td>\n",
       "      <td>0</td>\n",
       "      <td>0</td>\n",
       "      <td>0</td>\n",
       "      <td>0</td>\n",
       "      <td>0</td>\n",
       "    </tr>\n",
       "    <tr>\n",
       "      <th>2</th>\n",
       "      <td>Hey man, I'm really not trying to edit war. It...</td>\n",
       "      <td>0</td>\n",
       "      <td>0</td>\n",
       "      <td>0</td>\n",
       "      <td>0</td>\n",
       "      <td>0</td>\n",
       "      <td>0</td>\n",
       "    </tr>\n",
       "  </tbody>\n",
       "</table>\n",
       "</div>"
      ],
      "text/plain": [
       "                                        comment_text  toxic  severe_toxic  \\\n",
       "0  Explanation\\nWhy the edits made under my usern...      0             0   \n",
       "1  D'aww! He matches this background colour I'm s...      0             0   \n",
       "2  Hey man, I'm really not trying to edit war. It...      0             0   \n",
       "\n",
       "   obscene  threat  insult  identity_hate  \n",
       "0        0       0       0              0  \n",
       "1        0       0       0              0  \n",
       "2        0       0       0              0  "
      ]
     },
     "execution_count": 7,
     "metadata": {},
     "output_type": "execute_result"
    }
   ],
   "source": [
    "df = train_df.drop('id', axis=1)\n",
    "df.head(3)"
   ]
  },
  {
   "cell_type": "markdown",
   "id": "45a5b771-24a1-427c-8395-6ad4dcb817e9",
   "metadata": {},
   "source": [
    "В качестве целевой переменной будет факт токсичности (признак __toxic__)."
   ]
  },
  {
   "cell_type": "code",
   "execution_count": 8,
   "id": "c1d74f5d-0f8f-42c5-ad02-599de591e0f0",
   "metadata": {},
   "outputs": [
    {
     "data": {
      "text/html": [
       "<div>\n",
       "<style scoped>\n",
       "    .dataframe tbody tr th:only-of-type {\n",
       "        vertical-align: middle;\n",
       "    }\n",
       "\n",
       "    .dataframe tbody tr th {\n",
       "        vertical-align: top;\n",
       "    }\n",
       "\n",
       "    .dataframe thead th {\n",
       "        text-align: right;\n",
       "    }\n",
       "</style>\n",
       "<table border=\"1\" class=\"dataframe\">\n",
       "  <thead>\n",
       "    <tr style=\"text-align: right;\">\n",
       "      <th></th>\n",
       "      <th>comment_text</th>\n",
       "      <th>severe_toxic</th>\n",
       "      <th>obscene</th>\n",
       "      <th>threat</th>\n",
       "      <th>insult</th>\n",
       "      <th>identity_hate</th>\n",
       "    </tr>\n",
       "  </thead>\n",
       "  <tbody>\n",
       "    <tr>\n",
       "      <th>0</th>\n",
       "      <td>Explanation\\nWhy the edits made under my usern...</td>\n",
       "      <td>0</td>\n",
       "      <td>0</td>\n",
       "      <td>0</td>\n",
       "      <td>0</td>\n",
       "      <td>0</td>\n",
       "    </tr>\n",
       "    <tr>\n",
       "      <th>1</th>\n",
       "      <td>D'aww! He matches this background colour I'm s...</td>\n",
       "      <td>0</td>\n",
       "      <td>0</td>\n",
       "      <td>0</td>\n",
       "      <td>0</td>\n",
       "      <td>0</td>\n",
       "    </tr>\n",
       "    <tr>\n",
       "      <th>2</th>\n",
       "      <td>Hey man, I'm really not trying to edit war. It...</td>\n",
       "      <td>0</td>\n",
       "      <td>0</td>\n",
       "      <td>0</td>\n",
       "      <td>0</td>\n",
       "      <td>0</td>\n",
       "    </tr>\n",
       "  </tbody>\n",
       "</table>\n",
       "</div>"
      ],
      "text/plain": [
       "                                        comment_text  severe_toxic  obscene  \\\n",
       "0  Explanation\\nWhy the edits made under my usern...             0        0   \n",
       "1  D'aww! He matches this background colour I'm s...             0        0   \n",
       "2  Hey man, I'm really not trying to edit war. It...             0        0   \n",
       "\n",
       "   threat  insult  identity_hate  \n",
       "0       0       0              0  \n",
       "1       0       0              0  \n",
       "2       0       0              0  "
      ]
     },
     "execution_count": 8,
     "metadata": {},
     "output_type": "execute_result"
    }
   ],
   "source": [
    "X = df.drop('toxic', axis=1)\n",
    "y = df['toxic']\n",
    "X.head(3)"
   ]
  },
  {
   "cell_type": "markdown",
   "id": "5e8a04a2-6865-4dda-a5d9-4890ff73e361",
   "metadata": {},
   "source": [
    "### Векторизация текста"
   ]
  },
  {
   "cell_type": "markdown",
   "id": "fafe0f4b-76d7-4671-8cda-4c3da2d1a7a0",
   "metadata": {},
   "source": [
    "Текст надо представить в виде чисел, понятных компьютеру (векторов). Для этого я буду использовать TF-IDF векторизатор. В него я добавил регулярное выражение, которое отсеивает все числа, чтобы они не попали в словарь слов."
   ]
  },
  {
   "cell_type": "code",
   "execution_count": 9,
   "id": "98a70d3b-6323-431d-94f3-d0e4921244f4",
   "metadata": {},
   "outputs": [],
   "source": [
    "from sklearn.feature_extraction.text import TfidfVectorizer\n",
    "import re"
   ]
  },
  {
   "cell_type": "code",
   "execution_count": 102,
   "id": "fd211449-3c07-4304-8d0c-7fe84a2051d7",
   "metadata": {},
   "outputs": [],
   "source": [
    "def clean_text(text):\n",
    "    delimiters = ' ', '\\n', '_'\n",
    "    regex_pattern = '|'.join(map(re.escape, delimiters))\n",
    "    return ' '.join(re.split(regex_pattern, re.sub(r'[0-9]+', '', text.lower())))\n",
    "\n",
    "\n",
    "def clean_series(s):\n",
    "    for i in range(s.shape[0]):\n",
    "        s.iloc[i] = clean_text(s.iloc[i].lower())\n",
    "\n",
    "\n",
    "def clean_df(X):\n",
    "    for i in range(X.shape[0]):\n",
    "        X.loc[i, 'comment_text'] = clean_text(X.loc[i, 'comment_text'].lower())"
   ]
  },
  {
   "cell_type": "code",
   "execution_count": 10,
   "id": "24255bd7-c7ed-409c-bc69-d6a34910c59b",
   "metadata": {},
   "outputs": [
    {
     "name": "stdout",
     "output_type": "stream",
     "text": [
      "CPU times: user 14min 6s, sys: 8.45 s, total: 14min 15s\n",
      "Wall time: 30min 33s\n"
     ]
    },
    {
     "data": {
      "text/html": [
       "<div>\n",
       "<style scoped>\n",
       "    .dataframe tbody tr th:only-of-type {\n",
       "        vertical-align: middle;\n",
       "    }\n",
       "\n",
       "    .dataframe tbody tr th {\n",
       "        vertical-align: top;\n",
       "    }\n",
       "\n",
       "    .dataframe thead th {\n",
       "        text-align: right;\n",
       "    }\n",
       "</style>\n",
       "<table border=\"1\" class=\"dataframe\">\n",
       "  <thead>\n",
       "    <tr style=\"text-align: right;\">\n",
       "      <th></th>\n",
       "      <th>comment_text</th>\n",
       "      <th>severe_toxic</th>\n",
       "      <th>obscene</th>\n",
       "      <th>threat</th>\n",
       "      <th>insult</th>\n",
       "      <th>identity_hate</th>\n",
       "    </tr>\n",
       "  </thead>\n",
       "  <tbody>\n",
       "    <tr>\n",
       "      <th>0</th>\n",
       "      <td>explanation why the edits made under my userna...</td>\n",
       "      <td>0</td>\n",
       "      <td>0</td>\n",
       "      <td>0</td>\n",
       "      <td>0</td>\n",
       "      <td>0</td>\n",
       "    </tr>\n",
       "    <tr>\n",
       "      <th>1</th>\n",
       "      <td>d'aww! he matches this background colour i'm s...</td>\n",
       "      <td>0</td>\n",
       "      <td>0</td>\n",
       "      <td>0</td>\n",
       "      <td>0</td>\n",
       "      <td>0</td>\n",
       "    </tr>\n",
       "    <tr>\n",
       "      <th>2</th>\n",
       "      <td>hey man, i'm really not trying to edit war. it...</td>\n",
       "      <td>0</td>\n",
       "      <td>0</td>\n",
       "      <td>0</td>\n",
       "      <td>0</td>\n",
       "      <td>0</td>\n",
       "    </tr>\n",
       "  </tbody>\n",
       "</table>\n",
       "</div>"
      ],
      "text/plain": [
       "                                        comment_text  severe_toxic  obscene  \\\n",
       "0  explanation why the edits made under my userna...             0        0   \n",
       "1  d'aww! he matches this background colour i'm s...             0        0   \n",
       "2  hey man, i'm really not trying to edit war. it...             0        0   \n",
       "\n",
       "   threat  insult  identity_hate  \n",
       "0       0       0              0  \n",
       "1       0       0              0  \n",
       "2       0       0              0  "
      ]
     },
     "execution_count": 10,
     "metadata": {},
     "output_type": "execute_result"
    }
   ],
   "source": [
    "%%time\n",
    "delimiters = ' ', '\\n', '_'\n",
    "regex_pattern = '|'.join(map(re.escape, delimiters))\n",
    "for i in range(X.shape[0]):\n",
    "    X.loc[i, 'comment_text'] = ' '.join(re.split(regex_pattern, re.sub(r'[0-9]+', '', X.loc[i, 'comment_text'].lower())))\n",
    "X.head(3)"
   ]
  },
  {
   "cell_type": "code",
   "execution_count": 34,
   "id": "411cd15f-07a9-475c-b7fa-2961cb66d845",
   "metadata": {},
   "outputs": [],
   "source": [
    "from sklearn.model_selection import train_test_split"
   ]
  },
  {
   "cell_type": "code",
   "execution_count": 36,
   "id": "7ce75b66-4ddf-45fe-a789-9fa87942b879",
   "metadata": {},
   "outputs": [],
   "source": [
    "X_train, X_valid, y_train, y_valid = train_test_split(X, y, test_size=0.3, random_state=21)"
   ]
  },
  {
   "cell_type": "code",
   "execution_count": 37,
   "id": "93ef87af-a581-4d17-9cd3-40939033d1e6",
   "metadata": {},
   "outputs": [
    {
     "data": {
      "text/plain": [
       "['aa',\n",
       " 'aaa',\n",
       " 'aaaa',\n",
       " 'aaaaa',\n",
       " 'aaaaaaaaaaaaaaaaaaaaaaaaaaaaaaaaaaaaaaaaaaaaaaaaaaaaaaaaaaaaaaaaaaaaaany',\n",
       " 'aaaaaaaaaah',\n",
       " 'aaaaaaaaaahhhhhhhhhhhhhh',\n",
       " 'aaaaaaaaadm',\n",
       " 'aaaaaaaaaq',\n",
       " 'aaaaaaaacfo']"
      ]
     },
     "execution_count": 37,
     "metadata": {},
     "output_type": "execute_result"
    }
   ],
   "source": [
    "vectorizer = TfidfVectorizer()\n",
    "corpus_train = X_train['comment_text']\n",
    "corpus_valid = X_valid['comment_text']\n",
    "tfidf_features_train = vectorizer.fit_transform(corpus_train)\n",
    "tfidf_features_valid = vectorizer.transform(corpus_valid)\n",
    "vectorizer.get_feature_names()[0:10]"
   ]
  },
  {
   "cell_type": "code",
   "execution_count": 38,
   "id": "72d11053-8c01-44a1-8c2d-84ba816b9285",
   "metadata": {},
   "outputs": [
    {
     "data": {
      "text/plain": [
       "140231"
      ]
     },
     "execution_count": 38,
     "metadata": {},
     "output_type": "execute_result"
    }
   ],
   "source": [
    "len(vectorizer.get_feature_names())"
   ]
  },
  {
   "cell_type": "code",
   "execution_count": 39,
   "id": "c3928e5a-94d3-4767-af9d-4d0007b18e8e",
   "metadata": {},
   "outputs": [
    {
     "data": {
      "text/plain": [
       "(159571, 172817)"
      ]
     },
     "execution_count": 39,
     "metadata": {},
     "output_type": "execute_result"
    }
   ],
   "source": [
    "tfidf_features.shape"
   ]
  },
  {
   "cell_type": "code",
   "execution_count": 40,
   "id": "68c959f7-134a-48a6-bea5-879a1432f488",
   "metadata": {},
   "outputs": [
    {
     "data": {
      "text/plain": [
       "(159571, 6)"
      ]
     },
     "execution_count": 40,
     "metadata": {},
     "output_type": "execute_result"
    }
   ],
   "source": [
    "X.shape"
   ]
  },
  {
   "cell_type": "markdown",
   "id": "087830e9-eea3-40a8-887c-5f115fe2e87d",
   "metadata": {},
   "source": [
    "### Обучение модели"
   ]
  },
  {
   "cell_type": "code",
   "execution_count": 15,
   "id": "a1cd45bc-9f88-4e15-8c96-3b08740320c3",
   "metadata": {},
   "outputs": [],
   "source": [
    "# Xv = X.drop('comment_text', axis=1).join(tfidf_features"
   ]
  },
  {
   "cell_type": "code",
   "execution_count": 16,
   "id": "b7fe28ef-a32f-4c84-959a-0abd6c62ab73",
   "metadata": {},
   "outputs": [],
   "source": [
    "from sklearn.ensemble import GradientBoostingClassifier"
   ]
  },
  {
   "cell_type": "code",
   "execution_count": 41,
   "id": "139f3a53-1ff5-4463-8c7f-64a3b6bf33d8",
   "metadata": {},
   "outputs": [],
   "source": [
    "X_train_new = tfidf_features_train\n",
    "X_valid_new = tfidf_features_valid"
   ]
  },
  {
   "cell_type": "code",
   "execution_count": 46,
   "id": "23f410bd-3923-4af9-a72c-2e798efe7e79",
   "metadata": {},
   "outputs": [
    {
     "data": {
      "text/plain": [
       "GradientBoostingClassifier(ccp_alpha=0.0, criterion='friedman_mse', init=None,\n",
       "                           learning_rate=0.1, loss='deviance', max_depth=3,\n",
       "                           max_features=None, max_leaf_nodes=None,\n",
       "                           min_impurity_decrease=0.0, min_impurity_split=None,\n",
       "                           min_samples_leaf=1, min_samples_split=2,\n",
       "                           min_weight_fraction_leaf=0.0, n_estimators=1000,\n",
       "                           n_iter_no_change=None, presort='deprecated',\n",
       "                           random_state=21, subsample=1.0, tol=0.0001,\n",
       "                           validation_fraction=0.1, verbose=0,\n",
       "                           warm_start=False)"
      ]
     },
     "execution_count": 46,
     "metadata": {},
     "output_type": "execute_result"
    }
   ],
   "source": [
    "model = GradientBoostingClassifier(random_state=21, n_estimators=1000)\n",
    "model"
   ]
  },
  {
   "cell_type": "code",
   "execution_count": 48,
   "id": "1e588c4b-9ef9-4267-97e3-b16f144566c6",
   "metadata": {},
   "outputs": [
    {
     "name": "stdout",
     "output_type": "stream",
     "text": [
      "CPU times: user 17min 51s, sys: 4.42 s, total: 17min 55s\n",
      "Wall time: 38min 9s\n"
     ]
    }
   ],
   "source": [
    "%%time\n",
    "model = model.fit(X_train_new, y_train)"
   ]
  },
  {
   "cell_type": "code",
   "execution_count": 49,
   "id": "0e4bd786-b3db-482a-89a0-196410d0a21f",
   "metadata": {},
   "outputs": [],
   "source": [
    "from sklearn.metrics import f1_score"
   ]
  },
  {
   "cell_type": "code",
   "execution_count": 50,
   "id": "0df44eef-df0c-41c5-8334-675cd58cc853",
   "metadata": {},
   "outputs": [
    {
     "data": {
      "text/plain": [
       "0.8062133391266564"
      ]
     },
     "execution_count": 50,
     "metadata": {},
     "output_type": "execute_result"
    }
   ],
   "source": [
    "pred_train = model.predict(X_train_new)\n",
    "f1_score(pred_train, y_train)"
   ]
  },
  {
   "cell_type": "code",
   "execution_count": 51,
   "id": "f33fc8a6-3662-4c8d-afe6-2a5795515410",
   "metadata": {},
   "outputs": [
    {
     "data": {
      "text/plain": [
       "0.7329350451252066"
      ]
     },
     "execution_count": 51,
     "metadata": {},
     "output_type": "execute_result"
    }
   ],
   "source": [
    "pred_valid = model.predict(X_valid_new)\n",
    "f1_score(pred_valid, y_valid)"
   ]
  },
  {
   "cell_type": "code",
   "execution_count": 52,
   "id": "a52435bb-bdb4-4c19-a7e2-e1d466175766",
   "metadata": {},
   "outputs": [],
   "source": [
    "from sklearn.metrics import precision_score, recall_score"
   ]
  },
  {
   "cell_type": "code",
   "execution_count": 53,
   "id": "c8856238-4926-491d-97aa-e4589d99ead1",
   "metadata": {},
   "outputs": [
    {
     "data": {
      "text/plain": [
       "(0.6202667814113597, 0.8956197576887233)"
      ]
     },
     "execution_count": 53,
     "metadata": {},
     "output_type": "execute_result"
    }
   ],
   "source": [
    "precision_score(pred_valid, y_valid), recall_score(pred_valid, y_valid)"
   ]
  },
  {
   "cell_type": "markdown",
   "id": "9637ef66-41ba-41b4-adba-5a96975aa8af",
   "metadata": {},
   "source": [
    "### Подбор порога вероятности"
   ]
  },
  {
   "cell_type": "code",
   "execution_count": 59,
   "id": "6829a6b2-e46e-4281-a26d-979c8fef5e63",
   "metadata": {},
   "outputs": [],
   "source": [
    "from sklearn.metrics import precision_recall_curve"
   ]
  },
  {
   "cell_type": "code",
   "execution_count": 60,
   "id": "b020fb1a-c464-4ad6-80fc-6d7ac7560f16",
   "metadata": {},
   "outputs": [],
   "source": [
    "pred_valid_proba = model.predict_proba(X_valid_new)[:, 1]"
   ]
  },
  {
   "cell_type": "code",
   "execution_count": 89,
   "id": "ae80979d-4d1d-4f83-9f51-29efad163796",
   "metadata": {},
   "outputs": [
    {
     "name": "stdout",
     "output_type": "stream",
     "text": [
      "Best threshold = 0.382022,\n",
      "F-Score = 0.787,\n",
      "F1-Score = 0.759,\n",
      "Precision = 0.866,\n",
      "Recall = 0.676\n"
     ]
    }
   ],
   "source": [
    "precision, recall, thresholds = precision_recall_curve(y_valid, pred_valid_proba)\n",
    "beta = 0.75 # Отдаю предпочтение precision\n",
    "fscore = ((1 + beta**2) * precision * recall) / (beta**2 * precision + recall)\n",
    "f1score = (2 * precision * recall) / (precision + recall)\n",
    "ind = np.argmax(fscore)\n",
    "print('Best threshold = %f,\\nF-Score = %.3f,\\nF1-Score = %.3f,\\nPrecision = %.3f,\\nRecall = %.3f' %\n",
    "       (thresholds[ind], \n",
    "        fscore[ind],\n",
    "        f1score[ind],\n",
    "        precision[ind],\n",
    "        recall[ind]))"
   ]
  },
  {
   "cell_type": "markdown",
   "id": "c8835ccd-032b-4f48-8bd5-bf914b567b88",
   "metadata": {},
   "source": [
    "### Пайплайн"
   ]
  },
  {
   "cell_type": "code",
   "execution_count": 96,
   "id": "4e62b1dc-5c83-497e-824e-ac3f2c0bffec",
   "metadata": {},
   "outputs": [],
   "source": [
    "from sklearn.pipeline import Pipeline, make_pipeline\n",
    "from sklearn.base import BaseEstimator, TransformerMixin"
   ]
  },
  {
   "cell_type": "code",
   "execution_count": 97,
   "id": "6e6c8f05-9bd7-4b6a-b017-32a7213b8223",
   "metadata": {},
   "outputs": [],
   "source": [
    "class TextCleaner(BaseEstimator, TransformerMixin):\n",
    "    def __init__(self):\n",
    "        pass\n",
    "\n",
    "    def fit(self, X, y=None):\n",
    "        return self\n",
    "\n",
    "    def transform(self, X, y=None):\n",
    "        X = X.copy()\n",
    "        clean_series(X)\n",
    "        return X"
   ]
  },
  {
   "cell_type": "code",
   "execution_count": 132,
   "id": "d4371c8d-b7c3-4626-a7fe-4a02164623fa",
   "metadata": {},
   "outputs": [],
   "source": [
    "pipeline = Pipeline([('text_cleaner', TextCleaner()), \n",
    "                     ('vectorizer', TfidfVectorizer()), \n",
    "                     ('classifier', GradientBoostingClassifier\n",
    "                      (random_state=21, n_estimators=1000))])"
   ]
  },
  {
   "cell_type": "markdown",
   "id": "de5e2b84-80af-4c9c-ae0b-dc1bcce32526",
   "metadata": {},
   "source": [
    "Сейчас будет очень долго"
   ]
  },
  {
   "cell_type": "code",
   "execution_count": 133,
   "id": "9f44511e-f87b-4388-8ea6-a788161befeb",
   "metadata": {},
   "outputs": [
    {
     "name": "stdout",
     "output_type": "stream",
     "text": [
      "CPU times: user 17min 59s, sys: 5.11 s, total: 18min 4s\n",
      "Wall time: 1h 19min 55s\n"
     ]
    }
   ],
   "source": [
    "%%time\n",
    "pipeline = pipeline.fit(X_train['comment_text'], y_train)"
   ]
  },
  {
   "cell_type": "code",
   "execution_count": 134,
   "id": "42bff399-0345-435b-bc74-6630fd36a9a2",
   "metadata": {},
   "outputs": [
    {
     "data": {
      "text/plain": [
       "array([1, 0])"
      ]
     },
     "execution_count": 134,
     "metadata": {},
     "output_type": "execute_result"
    }
   ],
   "source": [
    "pipeline.predict(pd.Series(['Hello bitch fuck you shit!', 'I love you!']))"
   ]
  },
  {
   "cell_type": "markdown",
   "id": "35352006-2274-4b74-b2c0-0d90f1672376",
   "metadata": {},
   "source": [
    "Сохраню его для дальнейшего использования"
   ]
  },
  {
   "cell_type": "code",
   "execution_count": 135,
   "id": "323edf50-f4c7-4ece-941e-8588260e4dd1",
   "metadata": {},
   "outputs": [],
   "source": [
    "from joblib import dump, load"
   ]
  },
  {
   "cell_type": "code",
   "execution_count": 136,
   "id": "699b6692-6b92-456f-825c-0726857176a5",
   "metadata": {},
   "outputs": [
    {
     "data": {
      "text/plain": [
       "['saved/pipeline.joblib']"
      ]
     },
     "execution_count": 136,
     "metadata": {},
     "output_type": "execute_result"
    }
   ],
   "source": [
    "dump(pipeline, 'saved/pipeline.joblib')"
   ]
  },
  {
   "cell_type": "markdown",
   "id": "9eb2b79d-fd5a-47cc-b038-a6a1fa6dc926",
   "metadata": {},
   "source": [
    "Конец!"
   ]
  }
 ],
 "metadata": {
  "kernelspec": {
   "display_name": "Python 3 (ipykernel)",
   "language": "python",
   "name": "python3"
  },
  "language_info": {
   "codemirror_mode": {
    "name": "ipython",
    "version": 3
   },
   "file_extension": ".py",
   "mimetype": "text/x-python",
   "name": "python",
   "nbconvert_exporter": "python",
   "pygments_lexer": "ipython3",
   "version": "3.9.7"
  }
 },
 "nbformat": 4,
 "nbformat_minor": 5
}
