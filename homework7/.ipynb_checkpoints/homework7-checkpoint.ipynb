{
 "cells": [
  {
   "cell_type": "markdown",
   "id": "83ee1ff2-3ef8-4851-b96b-f7b2f1b6d7f3",
   "metadata": {},
   "source": [
    "### Предысловие\n",
    "Shap мне не удалось поставить, потому что его зависимость, llvmlite требует LLVM 3.8.x, не больше не меньше. Я поставил свежую версию из исходников, компилировалось кстати 2-3 часа, а llvmlite ругается что она слишком свежая. Значит мне опять заново все надо сделать. Меня такой рассклад не устраивает, я устал. Я и так уже затянул с этой домашкой, поэтому сделаю как есть. Возможно этот код даже не сработает, я не знаю, у меня ведь нету Shap, чтобы проверить."
   ]
  },
  {
   "cell_type": "markdown",
   "id": "4525b59a-5a54-4e41-b166-da9f4cf656b7",
   "metadata": {},
   "source": [
    "### Приступая к работе"
   ]
  },
  {
   "cell_type": "markdown",
   "id": "9fb176a0-1b3e-4c75-92c2-b1c9d75d5671",
   "metadata": {},
   "source": [
    "В качестве датасета для бинарной классификации возьму тот же, что из предыдущей домашней работы."
   ]
  },
  {
   "cell_type": "code",
   "execution_count": 1,
   "id": "a008f3f1-487e-48d1-a76f-b11a05bb7b36",
   "metadata": {},
   "outputs": [],
   "source": [
    "import pandas as pd\n",
    "import numpy as np"
   ]
  },
  {
   "cell_type": "code",
   "execution_count": 3,
   "id": "adbb6624-439b-445a-a7d5-56942c8d16e4",
   "metadata": {},
   "outputs": [
    {
     "data": {
      "text/html": [
       "<div>\n",
       "<style scoped>\n",
       "    .dataframe tbody tr th:only-of-type {\n",
       "        vertical-align: middle;\n",
       "    }\n",
       "\n",
       "    .dataframe tbody tr th {\n",
       "        vertical-align: top;\n",
       "    }\n",
       "\n",
       "    .dataframe thead th {\n",
       "        text-align: right;\n",
       "    }\n",
       "</style>\n",
       "<table border=\"1\" class=\"dataframe\">\n",
       "  <thead>\n",
       "    <tr style=\"text-align: right;\">\n",
       "      <th></th>\n",
       "      <th>Pregnant Times</th>\n",
       "      <th>Glucose Tolerance Test</th>\n",
       "      <th>Diastolic Blood Pressure</th>\n",
       "      <th>Triceps Skin Fold Thickness</th>\n",
       "      <th>Serum Insulin</th>\n",
       "      <th>Body Mass Index</th>\n",
       "      <th>Diabetes Pedigree Function</th>\n",
       "      <th>Age</th>\n",
       "      <th>Class</th>\n",
       "    </tr>\n",
       "  </thead>\n",
       "  <tbody>\n",
       "    <tr>\n",
       "      <th>0</th>\n",
       "      <td>6</td>\n",
       "      <td>148</td>\n",
       "      <td>72</td>\n",
       "      <td>35</td>\n",
       "      <td>0</td>\n",
       "      <td>33.6</td>\n",
       "      <td>0.627</td>\n",
       "      <td>50</td>\n",
       "      <td>1</td>\n",
       "    </tr>\n",
       "    <tr>\n",
       "      <th>1</th>\n",
       "      <td>1</td>\n",
       "      <td>85</td>\n",
       "      <td>66</td>\n",
       "      <td>29</td>\n",
       "      <td>0</td>\n",
       "      <td>26.6</td>\n",
       "      <td>0.351</td>\n",
       "      <td>31</td>\n",
       "      <td>0</td>\n",
       "    </tr>\n",
       "    <tr>\n",
       "      <th>2</th>\n",
       "      <td>8</td>\n",
       "      <td>183</td>\n",
       "      <td>64</td>\n",
       "      <td>0</td>\n",
       "      <td>0</td>\n",
       "      <td>23.3</td>\n",
       "      <td>0.672</td>\n",
       "      <td>32</td>\n",
       "      <td>1</td>\n",
       "    </tr>\n",
       "  </tbody>\n",
       "</table>\n",
       "</div>"
      ],
      "text/plain": [
       "   Pregnant Times  Glucose Tolerance Test  Diastolic Blood Pressure  \\\n",
       "0               6                     148                        72   \n",
       "1               1                      85                        66   \n",
       "2               8                     183                        64   \n",
       "\n",
       "   Triceps Skin Fold Thickness  Serum Insulin  Body Mass Index  \\\n",
       "0                           35              0             33.6   \n",
       "1                           29              0             26.6   \n",
       "2                            0              0             23.3   \n",
       "\n",
       "   Diabetes Pedigree Function  Age  Class  \n",
       "0                       0.627   50      1  \n",
       "1                       0.351   31      0  \n",
       "2                       0.672   32      1  "
      ]
     },
     "execution_count": 3,
     "metadata": {},
     "output_type": "execute_result"
    }
   ],
   "source": [
    "df = pd.read_csv(\"../homework6/pima-indians-diabetes.csv\", header=None)\n",
    "df.columns = [\n",
    "    'Pregnant Times',\n",
    "    'Glucose Tolerance Test',\n",
    "    'Diastolic Blood Pressure',\n",
    "    'Triceps Skin Fold Thickness',\n",
    "    'Serum Insulin',\n",
    "    'Body Mass Index',\n",
    "    'Diabetes Pedigree Function',\n",
    "    'Age',\n",
    "    'Class'\n",
    "]\n",
    "df.head(3)"
   ]
  },
  {
   "cell_type": "markdown",
   "id": "ed1dccd8-dac4-44d7-a3c4-bbb0dafde67d",
   "metadata": {},
   "source": [
    "Есть небольшой дисбаланс классов."
   ]
  },
  {
   "cell_type": "code",
   "execution_count": 4,
   "id": "f8412c44-be72-4fc9-b661-c44512dbb2d8",
   "metadata": {},
   "outputs": [
    {
     "data": {
      "text/plain": [
       "0    500\n",
       "1    268\n",
       "Name: Class, dtype: int64"
      ]
     },
     "execution_count": 4,
     "metadata": {},
     "output_type": "execute_result"
    }
   ],
   "source": [
    "df['Class'].value_counts()"
   ]
  },
  {
   "cell_type": "markdown",
   "id": "2b13337b-421b-4a30-a308-0e5586f44d4d",
   "metadata": {},
   "source": [
    "Поделю данные на обучающую и тестовую выборку."
   ]
  },
  {
   "cell_type": "code",
   "execution_count": 5,
   "id": "42879aca-31e6-416e-a565-86d6b51810b1",
   "metadata": {},
   "outputs": [],
   "source": [
    "from sklearn.model_selection import train_test_split"
   ]
  },
  {
   "cell_type": "code",
   "execution_count": 7,
   "id": "90597cec-1b39-470d-85b6-00bc555cf5f0",
   "metadata": {},
   "outputs": [],
   "source": [
    "X = df.drop('Class', axis=1)\n",
    "y = df['Class']\n",
    "\n",
    "X_train, X_test, y_train, y_test = train_test_split(X, y, test_size=0.3, random_state=21)"
   ]
  },
  {
   "cell_type": "markdown",
   "id": "eb1b7875-2518-4f66-956f-91a1285273a0",
   "metadata": {},
   "source": [
    "Обучу градиентный бустинг на обучащей выборке."
   ]
  },
  {
   "cell_type": "code",
   "execution_count": 8,
   "id": "176de7cf-8cd6-446f-9088-c46dfae185fe",
   "metadata": {},
   "outputs": [],
   "source": [
    "from sklearn.ensemble import GradientBoostingClassifier"
   ]
  },
  {
   "cell_type": "code",
   "execution_count": 10,
   "id": "e002feb4-5e7b-4395-b61d-745f642a426e",
   "metadata": {},
   "outputs": [],
   "source": [
    "model = GradientBoostingClassifier(random_state=21).fit(X_train, y_train)"
   ]
  },
  {
   "cell_type": "markdown",
   "id": "da018a70-51e8-412c-b0bd-33c09c7dde9c",
   "metadata": {},
   "source": [
    "Измерю качество обученной модели на тестовой выборке."
   ]
  },
  {
   "cell_type": "code",
   "execution_count": 11,
   "id": "9c58b7f0-530c-44a8-8d16-b7136f961880",
   "metadata": {},
   "outputs": [],
   "source": [
    "from sklearn.metrics import recall_score, precision_score, roc_auc_score, accuracy_score, f1_score"
   ]
  },
  {
   "cell_type": "code",
   "execution_count": 12,
   "id": "87b9a06a-18c1-4aa3-8c30-7a451ed2e667",
   "metadata": {},
   "outputs": [],
   "source": [
    "def evaluate_results(y_test, y_predict):\n",
    "    print('Classification results:')\n",
    "    f1 = f1_score(y_test, y_predict)\n",
    "    print(\"F1: %.2f%%\" % (f1 * 100.0)) \n",
    "    roc = roc_auc_score(y_test, y_predict)\n",
    "    print(\"ROC-AUC: %.2f%%\" % (roc * 100.0)) \n",
    "    rec = recall_score(y_test, y_predict)\n",
    "    print(\"Recall: %.2f%%\" % (rec * 100.0)) \n",
    "    pr = precision_score(y_test, y_predict)\n",
    "    print(\"Precision: %.2f%%\" % (pr * 100.0)) "
   ]
  },
  {
   "cell_type": "code",
   "execution_count": 14,
   "id": "150bb24c-8b40-415f-90f2-b114dc08956e",
   "metadata": {},
   "outputs": [
    {
     "name": "stdout",
     "output_type": "stream",
     "text": [
      "Classification results:\n",
      "F1: 61.74%\n",
      "ROC-AUC: 70.88%\n",
      "Recall: 52.87%\n",
      "Precision: 74.19%\n"
     ]
    }
   ],
   "source": [
    "pred = model.predict(X_test)\n",
    "evaluate_results(y_test, pred)"
   ]
  },
  {
   "cell_type": "markdown",
   "id": "310d8fa9-da38-41b5-9fa1-057806d998c9",
   "metadata": {},
   "source": [
    "Дальше код я закоментировал, поскольку на моем компьютере он не сработает без ошибок."
   ]
  },
  {
   "cell_type": "code",
   "execution_count": 16,
   "id": "ebef2287-28a6-457d-8ddc-8e950c494a8b",
   "metadata": {},
   "outputs": [],
   "source": [
    "# import shap"
   ]
  },
  {
   "cell_type": "code",
   "execution_count": 17,
   "id": "e1ed44ce-aac6-4cdb-af01-81c68d8f8d02",
   "metadata": {},
   "outputs": [],
   "source": [
    "# explainer = shap.TreeExplainer(model)\n",
    "# shap_values = explainer.shap_values(X_train)"
   ]
  },
  {
   "cell_type": "markdown",
   "id": "4e9f9280-eda8-4bc8-ad67-9495448ea8c4",
   "metadata": {},
   "source": [
    "Интерпретация важности признаков."
   ]
  },
  {
   "cell_type": "code",
   "execution_count": 19,
   "id": "f512c919-8eeb-4558-9609-b286637f191b",
   "metadata": {},
   "outputs": [],
   "source": [
    "# shap.summary_plot(shap_values, X_train)"
   ]
  },
  {
   "cell_type": "markdown",
   "id": "d780497a-88f9-4ebc-84ef-5a54204a8ee9",
   "metadata": {},
   "source": [
    "Интерпретация одного наблюдения."
   ]
  },
  {
   "cell_type": "code",
   "execution_count": 21,
   "id": "ac31a227-4af8-4c9f-88c8-a4247e6ef9a0",
   "metadata": {},
   "outputs": [],
   "source": [
    "#shap.force_plot(explainer.expected_value, shap_values[0,:], X_train.iloc[0,:])"
   ]
  },
  {
   "cell_type": "markdown",
   "id": "7d18d67c-208f-4ab8-9594-ea73b7cdb431",
   "metadata": {},
   "source": [
    "Конец!"
   ]
  }
 ],
 "metadata": {
  "kernelspec": {
   "display_name": "Python 3 (ipykernel)",
   "language": "python",
   "name": "python3"
  },
  "language_info": {
   "codemirror_mode": {
    "name": "ipython",
    "version": 3
   },
   "file_extension": ".py",
   "mimetype": "text/x-python",
   "name": "python",
   "nbconvert_exporter": "python",
   "pygments_lexer": "ipython3",
   "version": "3.9.7"
  }
 },
 "nbformat": 4,
 "nbformat_minor": 5
}
