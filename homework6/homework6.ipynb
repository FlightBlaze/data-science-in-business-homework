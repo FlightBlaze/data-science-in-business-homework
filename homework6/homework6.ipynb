{
 "cells": [
  {
   "cell_type": "markdown",
   "id": "ec9924c5-8bf1-4e9e-9f54-1513c082254a",
   "metadata": {},
   "source": [
    "### Приступая к работе"
   ]
  },
  {
   "cell_type": "markdown",
   "id": "15cb404a-5fd1-4d0d-b6d3-c3e2739a8007",
   "metadata": {},
   "source": [
    "Сначала обучу модель обычным способом"
   ]
  },
  {
   "cell_type": "code",
   "execution_count": 213,
   "id": "90eb4bc8-89ae-4a65-8d94-f4127b7182f3",
   "metadata": {},
   "outputs": [],
   "source": [
    "import pandas as pd\n",
    "import numpy as np"
   ]
  },
  {
   "cell_type": "code",
   "execution_count": 214,
   "id": "09aae253-d659-4334-9621-4ac1735119f2",
   "metadata": {},
   "outputs": [
    {
     "data": {
      "text/html": [
       "<div>\n",
       "<style scoped>\n",
       "    .dataframe tbody tr th:only-of-type {\n",
       "        vertical-align: middle;\n",
       "    }\n",
       "\n",
       "    .dataframe tbody tr th {\n",
       "        vertical-align: top;\n",
       "    }\n",
       "\n",
       "    .dataframe thead th {\n",
       "        text-align: right;\n",
       "    }\n",
       "</style>\n",
       "<table border=\"1\" class=\"dataframe\">\n",
       "  <thead>\n",
       "    <tr style=\"text-align: right;\">\n",
       "      <th></th>\n",
       "      <th>Pregnant Times</th>\n",
       "      <th>Glucose Tolerance Test</th>\n",
       "      <th>Diastolic Blood Pressure</th>\n",
       "      <th>Triceps Skin Fold Thickness</th>\n",
       "      <th>Serum Insulin</th>\n",
       "      <th>Body Mass Index</th>\n",
       "      <th>Diabetes Pedigree Function</th>\n",
       "      <th>Age</th>\n",
       "      <th>Class</th>\n",
       "    </tr>\n",
       "  </thead>\n",
       "  <tbody>\n",
       "    <tr>\n",
       "      <th>0</th>\n",
       "      <td>6</td>\n",
       "      <td>148</td>\n",
       "      <td>72</td>\n",
       "      <td>35</td>\n",
       "      <td>0</td>\n",
       "      <td>33.6</td>\n",
       "      <td>0.627</td>\n",
       "      <td>50</td>\n",
       "      <td>1</td>\n",
       "    </tr>\n",
       "    <tr>\n",
       "      <th>1</th>\n",
       "      <td>1</td>\n",
       "      <td>85</td>\n",
       "      <td>66</td>\n",
       "      <td>29</td>\n",
       "      <td>0</td>\n",
       "      <td>26.6</td>\n",
       "      <td>0.351</td>\n",
       "      <td>31</td>\n",
       "      <td>0</td>\n",
       "    </tr>\n",
       "    <tr>\n",
       "      <th>2</th>\n",
       "      <td>8</td>\n",
       "      <td>183</td>\n",
       "      <td>64</td>\n",
       "      <td>0</td>\n",
       "      <td>0</td>\n",
       "      <td>23.3</td>\n",
       "      <td>0.672</td>\n",
       "      <td>32</td>\n",
       "      <td>1</td>\n",
       "    </tr>\n",
       "  </tbody>\n",
       "</table>\n",
       "</div>"
      ],
      "text/plain": [
       "   Pregnant Times  Glucose Tolerance Test  Diastolic Blood Pressure  \\\n",
       "0               6                     148                        72   \n",
       "1               1                      85                        66   \n",
       "2               8                     183                        64   \n",
       "\n",
       "   Triceps Skin Fold Thickness  Serum Insulin  Body Mass Index  \\\n",
       "0                           35              0             33.6   \n",
       "1                           29              0             26.6   \n",
       "2                            0              0             23.3   \n",
       "\n",
       "   Diabetes Pedigree Function  Age  Class  \n",
       "0                       0.627   50      1  \n",
       "1                       0.351   31      0  \n",
       "2                       0.672   32      1  "
      ]
     },
     "execution_count": 214,
     "metadata": {},
     "output_type": "execute_result"
    }
   ],
   "source": [
    "df = pd.read_csv(\"pima-indians-diabetes.csv\", header=None)\n",
    "df.columns = [\n",
    "    'Pregnant Times',\n",
    "    'Glucose Tolerance Test',\n",
    "    'Diastolic Blood Pressure',\n",
    "    'Triceps Skin Fold Thickness',\n",
    "    'Serum Insulin',\n",
    "    'Body Mass Index',\n",
    "    'Diabetes Pedigree Function',\n",
    "    'Age',\n",
    "    'Class'\n",
    "]\n",
    "df.head(3)"
   ]
  },
  {
   "cell_type": "code",
   "execution_count": 215,
   "id": "d1f576f4-a9eb-4cbb-90c5-2839c5b8aee7",
   "metadata": {},
   "outputs": [],
   "source": [
    "from sklearn.model_selection import train_test_split"
   ]
  },
  {
   "cell_type": "code",
   "execution_count": 216,
   "id": "af087cb3-b30d-4697-aa5b-35bf71e6c40f",
   "metadata": {},
   "outputs": [],
   "source": [
    "X = data.drop('Class', axis=1)\n",
    "y = data['Class']\n",
    "\n",
    "X_train, X_test, y_train, y_test = train_test_split(X, y, test_size=0.3, random_state=21)"
   ]
  },
  {
   "cell_type": "code",
   "execution_count": 217,
   "id": "69af7fee-eb9c-49e3-b98b-2d2c473cb368",
   "metadata": {},
   "outputs": [],
   "source": [
    "from sklearn.ensemble import GradientBoostingClassifier"
   ]
  },
  {
   "cell_type": "code",
   "execution_count": 218,
   "id": "15fdb2f7-4e93-4821-8f58-bd1ad8455b72",
   "metadata": {},
   "outputs": [
    {
     "data": {
      "text/plain": [
       "GradientBoostingClassifier(ccp_alpha=0.0, criterion='friedman_mse', init=None,\n",
       "                           learning_rate=0.1, loss='deviance', max_depth=3,\n",
       "                           max_features=None, max_leaf_nodes=None,\n",
       "                           min_impurity_decrease=0.0, min_impurity_split=None,\n",
       "                           min_samples_leaf=1, min_samples_split=2,\n",
       "                           min_weight_fraction_leaf=0.0, n_estimators=100,\n",
       "                           n_iter_no_change=None, presort='deprecated',\n",
       "                           random_state=21, subsample=1.0, tol=0.0001,\n",
       "                           validation_fraction=0.1, verbose=0,\n",
       "                           warm_start=False)"
      ]
     },
     "execution_count": 218,
     "metadata": {},
     "output_type": "execute_result"
    }
   ],
   "source": [
    "model = GradientBoostingClassifier(random_state=21)\n",
    "model.fit(X_train, y_train)"
   ]
  },
  {
   "cell_type": "code",
   "execution_count": 219,
   "id": "26a1860d-c6bd-4eb7-b9ec-e5841a7c495c",
   "metadata": {},
   "outputs": [],
   "source": [
    "from sklearn.metrics import recall_score, precision_score, roc_auc_score, accuracy_score, f1_score\n",
    "\n",
    "def evaluate_results(y_test, y_predict):\n",
    "    print('Classification results:')\n",
    "    f1 = f1_score(y_test, y_predict)\n",
    "    print(\"F1: %.2f%%\" % (f1 * 100.0)) \n",
    "    roc = roc_auc_score(y_test, y_predict)\n",
    "    print(\"ROC-AUC: %.2f%%\" % (roc * 100.0)) \n",
    "    rec = recall_score(y_test, y_predict)\n",
    "    print(\"Recall: %.2f%%\" % (rec * 100.0)) \n",
    "    pr = precision_score(y_test, y_predict)\n",
    "    print(\"Precision: %.2f%%\" % (pr * 100.0)) "
   ]
  },
  {
   "cell_type": "code",
   "execution_count": 220,
   "id": "15b7eb8e-648f-4135-87e0-51571570e30a",
   "metadata": {},
   "outputs": [
    {
     "name": "stdout",
     "output_type": "stream",
     "text": [
      "Classification results:\n",
      "F1: 61.74%\n",
      "ROC-AUC: 70.88%\n",
      "Recall: 52.87%\n",
      "Precision: 74.19%\n"
     ]
    }
   ],
   "source": [
    "pred = model.predict(X_test)\n",
    "evaluate_results(y_test, pred)"
   ]
  },
  {
   "cell_type": "markdown",
   "id": "4831eca8-2d0e-49f6-8a58-3393d2d3cd58",
   "metadata": {},
   "source": [
    "### PU learning"
   ]
  },
  {
   "cell_type": "markdown",
   "id": "2695d4b2-dc37-4612-8b41-7ea85463e378",
   "metadata": {},
   "source": [
    "Теперь применю обучение на основе положительных и неразмеченных данных (PU learning)"
   ]
  },
  {
   "cell_type": "code",
   "execution_count": 221,
   "id": "fd13fc59-68f3-49bd-91de-b21fdd5802c5",
   "metadata": {},
   "outputs": [],
   "source": [
    "def pu(df, P = 0.25):\n",
    "    pu_df = df.copy()\n",
    "    pos_ind = np.where(pu_df.iloc[:,-1].values == 1)[0]\n",
    "\n",
    "    rand_state = np.random.RandomState(21)\n",
    "    rand_state.shuffle(pos_ind)\n",
    "    \n",
    "    pos_sample_len = int(np.ceil(len(pos_ind) * P))\n",
    "    pos_sample = pos_ind[:pos_sample_len]\n",
    "\n",
    "    pu_df['PU Class'] = -1\n",
    "    pu_df.loc[pos_sample, 'PU Class'] = 1\n",
    "    \n",
    "    return pu_df"
   ]
  },
  {
   "cell_type": "code",
   "execution_count": 222,
   "id": "a7586f1e-9f6e-4fec-9221-5ee7f9c9f653",
   "metadata": {},
   "outputs": [],
   "source": [
    "def random_negative_sample(df):\n",
    "    data = df.copy()\n",
    "    data = data.sample(frac=1, random_state=21)\n",
    "    \n",
    "    neg_sample = data[data['PU Class']==-1][:len(data[data['PU Class']==1])]\n",
    "    pos_sample = data[data['PU Class']==1]\n",
    "    \n",
    "    sample_train = pd.concat([neg_sample, pos_sample]).sample(frac=1)\n",
    "    sample_train.drop('PU Class', axis=1, inplace=True)\n",
    "    \n",
    "    sample_test = data[data['PU Class']==-1][len(data[data['PU Class']==1]):]\n",
    "    sample_test.drop('PU Class', axis=1, inplace=True)\n",
    "    \n",
    "    return (sample_train, sample_test)"
   ]
  },
  {
   "cell_type": "code",
   "execution_count": 223,
   "id": "2b99c397-63ca-4f46-8a29-78142b3f31a3",
   "metadata": {},
   "outputs": [
    {
     "data": {
      "text/plain": [
       "-1    701\n",
       " 1     67\n",
       "Name: PU Class, dtype: int64"
      ]
     },
     "execution_count": 223,
     "metadata": {},
     "output_type": "execute_result"
    }
   ],
   "source": [
    "pu_df = pu(df)\n",
    "pu_df['PU Class'].value_counts()"
   ]
  },
  {
   "cell_type": "code",
   "execution_count": 224,
   "id": "757ac669-3e5b-4d8e-a213-6c269b501711",
   "metadata": {},
   "outputs": [],
   "source": [
    "train, test = random_negative_sample(pu_df)"
   ]
  },
  {
   "cell_type": "code",
   "execution_count": 225,
   "id": "aee8b23c-3e7e-43ff-9671-567eb86a6300",
   "metadata": {},
   "outputs": [
    {
     "data": {
      "text/plain": [
       "GradientBoostingClassifier(ccp_alpha=0.0, criterion='friedman_mse', init=None,\n",
       "                           learning_rate=0.1, loss='deviance', max_depth=3,\n",
       "                           max_features=None, max_leaf_nodes=None,\n",
       "                           min_impurity_decrease=0.0, min_impurity_split=None,\n",
       "                           min_samples_leaf=1, min_samples_split=2,\n",
       "                           min_weight_fraction_leaf=0.0, n_estimators=100,\n",
       "                           n_iter_no_change=None, presort='deprecated',\n",
       "                           random_state=21, subsample=1.0, tol=0.0001,\n",
       "                           validation_fraction=0.1, verbose=0,\n",
       "                           warm_start=False)"
      ]
     },
     "execution_count": 225,
     "metadata": {},
     "output_type": "execute_result"
    }
   ],
   "source": [
    "model = GradientBoostingClassifier(random_state=21)\n",
    "model.fit(train.drop('Class', axis=1), train['Class'])"
   ]
  },
  {
   "cell_type": "code",
   "execution_count": 231,
   "id": "beff246a-638e-463a-8749-578f06fef05f",
   "metadata": {},
   "outputs": [
    {
     "name": "stdout",
     "output_type": "stream",
     "text": [
      "Classification results:\n",
      "F1: 55.13%\n",
      "ROC-AUC: 68.30%\n",
      "Recall: 81.01%\n",
      "Precision: 41.79%\n"
     ]
    }
   ],
   "source": [
    "pred = model.predict(test.drop('Class', axis=1))\n",
    "evaluate_results(test['Class'], pred)"
   ]
  },
  {
   "cell_type": "markdown",
   "id": "7d79d254-aaa5-43e7-93c0-a439e856b8e7",
   "metadata": {},
   "source": [
    "Оценю качество моделей, обученных на данных с разной долей P"
   ]
  },
  {
   "cell_type": "code",
   "execution_count": 232,
   "id": "e936ad82-370a-4330-9723-e91bfc6e74b4",
   "metadata": {},
   "outputs": [],
   "source": [
    "def train_evaluate(P):\n",
    "    train, test = random_negative_sample(pu(df, P))\n",
    "    \n",
    "    model = GradientBoostingClassifier(random_state=21)\n",
    "    model.fit(train.drop('Class', axis=1), train['Class'])\n",
    "    \n",
    "    pred = model.predict(test.drop('Class', axis=1))\n",
    "    evaluate_results(test['Class'], pred)"
   ]
  },
  {
   "cell_type": "code",
   "execution_count": 233,
   "id": "7f77d401-1fe5-4e25-8351-5956e2e9dc74",
   "metadata": {},
   "outputs": [
    {
     "name": "stdout",
     "output_type": "stream",
     "text": [
      "Classification results:\n",
      "F1: 56.42%\n",
      "ROC-AUC: 67.60%\n",
      "Recall: 84.34%\n",
      "Precision: 42.39%\n"
     ]
    }
   ],
   "source": [
    "train_evaluate(P=0.2)"
   ]
  },
  {
   "cell_type": "code",
   "execution_count": 234,
   "id": "7998b58a-163f-4722-8c56-fc94e0780924",
   "metadata": {},
   "outputs": [
    {
     "name": "stdout",
     "output_type": "stream",
     "text": [
      "Classification results:\n",
      "F1: 55.24%\n",
      "ROC-AUC: 68.41%\n",
      "Recall: 81.01%\n",
      "Precision: 41.91%\n"
     ]
    }
   ],
   "source": [
    "train_evaluate(P=0.25)"
   ]
  },
  {
   "cell_type": "code",
   "execution_count": 235,
   "id": "adfaf352-7f60-441d-8d5b-18062e80fe85",
   "metadata": {},
   "outputs": [
    {
     "name": "stdout",
     "output_type": "stream",
     "text": [
      "Classification results:\n",
      "F1: 46.86%\n",
      "ROC-AUC: 69.67%\n",
      "Recall: 81.19%\n",
      "Precision: 32.93%\n"
     ]
    }
   ],
   "source": [
    "train_evaluate(P=0.5)"
   ]
  },
  {
   "cell_type": "markdown",
   "id": "6d0a7919-2d6c-49be-a066-6d44af3011a7",
   "metadata": {},
   "source": [
    "Конец!"
   ]
  }
 ],
 "metadata": {
  "kernelspec": {
   "display_name": "Python 3 (ipykernel)",
   "language": "python",
   "name": "python3"
  },
  "language_info": {
   "codemirror_mode": {
    "name": "ipython",
    "version": 3
   },
   "file_extension": ".py",
   "mimetype": "text/x-python",
   "name": "python",
   "nbconvert_exporter": "python",
   "pygments_lexer": "ipython3",
   "version": "3.9.7"
  }
 },
 "nbformat": 4,
 "nbformat_minor": 5
}
